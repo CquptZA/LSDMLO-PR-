{
 "cells": [
  {
   "cell_type": "code",
   "execution_count": 1,
   "id": "361d3b25",
   "metadata": {
    "ExecuteTime": {
     "end_time": "2024-03-13T03:19:18.737646Z",
     "start_time": "2024-03-13T03:19:18.217096Z"
    }
   },
   "outputs": [],
   "source": [
    "from Training import  *"
   ]
  },
  {
   "cell_type": "code",
   "execution_count": null,
   "id": "fb72344d",
   "metadata": {},
   "outputs": [],
   "source": [
    "paracombine=[[2**(-2),2**(-6)],[2**(-2),2**(-4)],[2**(-1),2**(-3)],[2**(0),2**(-4)],[2**(0),2**(-2)],[2**(1),2**(-2)],[2**(2),2**(0)],[2**(3),2**(0)],[2**(3),2**(1)],[2**(4),2**(0)],[2**(4),2**(1)]]\n",
    "\n",
    "path_to_arff_files = [\"emotions.arff\",\"rcv1subset1.arff\",\"Corel5k.arff\",\"yahoo-Business1\",\"yahoo-Arts1.arff\"]\n",
    "label_counts = [6,101,374,28,25]\n",
    "select_feature=[1,0.01,1,0.01,0.01]\n",
    "data_specific_sampling=[0.01,0.02,0.05,0.1,0.15,0.3,0.5,0.7]\n",
    "for i, path_to_arff_file in enumerate(path_to_arff_files):\n",
    "    X, y, feature_names, label_names = load_from_arff(\n",
    "        path_to_arff_file,\n",
    "        label_count=label_counts[i],\n",
    "        label_location=\"end\",\n",
    "        load_sparse=False,\n",
    "        return_attribute_definitions=True\n",
    "    )\n",
    "    X,feature_names=FeatureSelect(select_feature[i],feature_names,X)\n",
    "    y,label_names=LabelSelect(label_names,y)\n",
    "    dataset_name = path_to_arff_file.split(\".\")[0] \n",
    "    for c_idx in range(1,2):\n",
    "        results_list=[]\n",
    "        print (f\"classifierid: {c_idx}\")\n",
    "        MacroF_list = []\n",
    "        MacroAUCROC_list = []\n",
    "        MacroAUCPR_list = []\n",
    "        RankLoss_list = []\n",
    "        res2_list = []\n",
    "        res4_list = []\n",
    "        res6_list = []\n",
    "        res3_list = []\n",
    "        for j in paracombine:\n",
    "            optmParameter = {\n",
    "                            'alpha':j[0], \n",
    "                            'beta': j[1],  \n",
    "                            'gamma': 0.001,  \n",
    "                            'lamda': 2**(1),  \n",
    "                            'lamda2': 2**(5), \n",
    "                            'maxIter': 100, \n",
    "                            'minimumLossMargin': 0.01, \n",
    "                            'bQuiet': 1\n",
    "                            }         \n",
    "            for sp in data_specific_sampling:\n",
    "                print (f\"'alpha': {j[0]},'beta': {j[1]},'spratio':{sp}\")\n",
    "                training(X,y,c_idx,sp,optmParameter,feature_names,label_names)"
   ]
  }
 ],
 "metadata": {
  "kernelspec": {
   "display_name": "Python 3 (ipykernel)",
   "language": "python",
   "name": "python3"
  },
  "language_info": {
   "codemirror_mode": {
    "name": "ipython",
    "version": 3
   },
   "file_extension": ".py",
   "mimetype": "text/x-python",
   "name": "python",
   "nbconvert_exporter": "python",
   "pygments_lexer": "ipython3",
   "version": "3.7.13"
  }
 },
 "nbformat": 4,
 "nbformat_minor": 5
}
